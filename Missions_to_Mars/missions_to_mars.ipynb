{
 "cells": [
  {
   "cell_type": "code",
   "execution_count": 1,
   "metadata": {},
   "outputs": [],
   "source": [
    "from splinter import Browser\n",
    "from bs4 import BeautifulSoup\n",
    "import pandas as pd\n",
    "import time"
   ]
  },
  {
   "cell_type": "code",
   "execution_count": 2,
   "metadata": {},
   "outputs": [],
   "source": [
    "#execute chromedriver \n",
    "executable_path = {'executable_path': 'chromedriver.exe'}\n",
    "browser = Browser('chrome', **executable_path, headless=False)"
   ]
  },
  {
   "cell_type": "code",
   "execution_count": 3,
   "metadata": {},
   "outputs": [],
   "source": [
    "#store nasa news url into a variable\n",
    "news_url = 'https://mars.nasa.gov/news/'\n",
    "#vist nasa news url using splinter\n",
    "browser.visit(news_url)\n",
    "time.sleep(5)"
   ]
  },
  {
   "cell_type": "code",
   "execution_count": 4,
   "metadata": {},
   "outputs": [],
   "source": [
    "#Extract latest title and paragraph from nasa news website\n",
    "soup = BeautifulSoup(browser.html, 'html.parser')\n",
    "news_title = soup.find_all('div',class_='content_title')[1].text\n",
    "news_paragraph = soup.find_all('div',class_='article_teaser_body')[0].text"
   ]
  },
  {
   "cell_type": "code",
   "execution_count": 5,
   "metadata": {},
   "outputs": [],
   "source": [
    "#store jpl url into a variable\n",
    "jpl_url = 'https://www.jpl.nasa.gov/spaceimages/?search=&category=Mars'\n",
    "#vist jpl url using splinter\n",
    "browser.visit(jpl_url)\n",
    "time.sleep(5)\n",
    "full_image_link=browser.find_by_id(\"full_image\")[0]\n",
    "full_image_link.click()\n",
    "actual_image_page=browser.links.find_by_partial_text(\"more info\")\n",
    "actual_image_page.click()"
   ]
  },
  {
   "cell_type": "code",
   "execution_count": 6,
   "metadata": {},
   "outputs": [],
   "source": [
    "#Extract latest featured image from nasa jpl website\n",
    "soup = BeautifulSoup(browser.html, 'html.parser')\n",
    "try:\n",
    "    jpl_image = soup.find('img', class_='main_image')['src']\n",
    "    jpl_image_full_url= str(jpl_url.rsplit('/spaceimages',1)[0])+ str(jpl_image_url)\n",
    "except:\n",
    "    pass"
   ]
  },
  {
   "cell_type": "code",
   "execution_count": 7,
   "metadata": {},
   "outputs": [],
   "source": [
    "#store twitter url into variable\n",
    "twitter_url = 'https://twitter.com/marswxreport?lang=en'\n",
    "#vist twitter url using splinter\n",
    "browser.visit(twitter_url)\n",
    "time.sleep(5)"
   ]
  },
  {
   "cell_type": "code",
   "execution_count": 8,
   "metadata": {},
   "outputs": [],
   "source": [
    "#Extract latest weather tweet from twitter account\n",
    "soup = BeautifulSoup(browser.html, 'html.parser')\n",
    "weather_tweet = soup.find('div', attrs={\"dir\":\"auto\",\"lang\":\"en\"}).span.text.rsplit('\\n',2)\n",
    "weather_tweet=str(weather_tweet[0])+str(weather_tweet[1])+str(weather_tweet[2])"
   ]
  },
  {
   "cell_type": "code",
   "execution_count": 9,
   "metadata": {},
   "outputs": [],
   "source": [
    "#store mars facts url into variable\n",
    "mars_facts = 'https://space-facts.com/mars/'\n",
    "#vist mars facts url using splinter\n",
    "browser.visit(mars_facts)\n",
    "time.sleep(5)"
   ]
  },
  {
   "cell_type": "code",
   "execution_count": 10,
   "metadata": {
    "scrolled": true
   },
   "outputs": [],
   "source": [
    "#Extract table, convert into html, and strip unwanted new lines\n",
    "mars_table = pd.read_html(mars_facts)[0]\n",
    "mars_table = mars_table.rename(columns= {0:\"Properties\",1:\"Value\"})\n",
    "mars_table_html = mars_table.to_html(index =False)\n",
    "mars_table_html = mars_table_html.replace('\\n', '')"
   ]
  },
  {
   "cell_type": "code",
   "execution_count": 11,
   "metadata": {},
   "outputs": [],
   "source": [
    "#Mars hemisphere site\n",
    "mars_hemisphere='https://astrogeology.usgs.gov/search/results?q=hemisphere+enhanced&k1=target&v1=Mars'"
   ]
  },
  {
   "cell_type": "code",
   "execution_count": 12,
   "metadata": {},
   "outputs": [],
   "source": [
    "#Extract cerberus image and image title and store in dictionary\n",
    "cerberus_dict={}\n",
    "cerberus = 'https://astrogeology.usgs.gov/search/map/Mars/Viking/cerberus_enhanced'\n",
    "browser.visit(cerberus)\n",
    "time.sleep(5)\n",
    "soup = BeautifulSoup(browser.html, 'html.parser')\n",
    "cerberus_image = soup.find(\"img\", class_='wide-image')['src']\n",
    "cerberus_dict['img-url'] = str(mars_hemisphere.rsplit('/search',1)[0])+ str(cerberus_image)\n",
    "cerberus_dict['img-title'] = soup.find('h2', class_='title').text"
   ]
  },
  {
   "cell_type": "code",
   "execution_count": 13,
   "metadata": {},
   "outputs": [],
   "source": [
    "#Extract schiaparelli image and image title and store in dictionary\n",
    "schiaparelli_dict={}\n",
    "schiaparelli = 'https://astrogeology.usgs.gov/search/map/Mars/Viking/schiaparelli_enhanced'\n",
    "browser.visit(schiaparelli)\n",
    "time.sleep(5)\n",
    "soup = BeautifulSoup(browser.html, 'html.parser')\n",
    "schiaparelli_image = soup.find(\"img\", class_='wide-image')['src']\n",
    "schiaparelli_dict['img-url'] = str(mars_hemisphere.rsplit('/search',1)[0])+ str(schiaparelli_image)\n",
    "schiaparelli_dict['img-title'] = soup.find('h2', class_='title').text"
   ]
  },
  {
   "cell_type": "code",
   "execution_count": 14,
   "metadata": {},
   "outputs": [],
   "source": [
    "##Extract syrtis_major image and image title and store in dictionary\n",
    "syrtis_major_dict={}\n",
    "syrtis_major = 'https://astrogeology.usgs.gov/search/map/Mars/Viking/syrtis_major_enhanced'\n",
    "browser.visit(syrtis_major)\n",
    "time.sleep(5)\n",
    "soup = BeautifulSoup(browser.html, 'html.parser')\n",
    "syrtis_major_image = soup.find(\"img\", class_='wide-image')['src']\n",
    "syrtis_major_dict['img-url'] = str(mars_hemisphere.rsplit('/search',1)[0])+ str(syrtis_major_image)\n",
    "syrtis_major_dict['img-title'] = soup.find('h2', class_='title').text"
   ]
  },
  {
   "cell_type": "code",
   "execution_count": 15,
   "metadata": {},
   "outputs": [],
   "source": [
    "#Extract valles_marineris image and image title and store in dictionary\n",
    "valles_marineris_dict={}\n",
    "valles_marineris = 'https://astrogeology.usgs.gov/search/map/Mars/Viking/valles_marineris_enhanced'\n",
    "browser.visit(valles_marineris)\n",
    "time.sleep(5)\n",
    "soup = BeautifulSoup(browser.html, 'html.parser')\n",
    "valles_marineris_image = soup.find(\"img\", class_='wide-image')['src']\n",
    "valles_marineris_dict['img-url'] = str(mars_hemisphere.rsplit('/search',1)[0])+ str(valles_marineris_image)\n",
    "valles_marineris_dict['img-title'] = soup.find('h2', class_='title').text"
   ]
  },
  {
   "cell_type": "code",
   "execution_count": 16,
   "metadata": {},
   "outputs": [],
   "source": [
    "#append dictionary into one list\n",
    "hemisphere_image_urls = []\n",
    "hemisphere_image_urls.extend((cerberus_dict,schiaparelli_dict,syrtis_major_dict,valles_marineris_dict))"
   ]
  },
  {
   "cell_type": "code",
   "execution_count": null,
   "metadata": {},
   "outputs": [],
   "source": []
  }
 ],
 "metadata": {
  "kernelspec": {
   "display_name": "Python 3",
   "language": "python",
   "name": "python3"
  },
  "language_info": {
   "codemirror_mode": {
    "name": "ipython",
    "version": 3
   },
   "file_extension": ".py",
   "mimetype": "text/x-python",
   "name": "python",
   "nbconvert_exporter": "python",
   "pygments_lexer": "ipython3",
   "version": "3.7.6"
  }
 },
 "nbformat": 4,
 "nbformat_minor": 4
}
